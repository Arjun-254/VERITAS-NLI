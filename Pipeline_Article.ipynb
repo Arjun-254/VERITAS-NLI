{
 "cells": [
  {
   "cell_type": "markdown",
   "metadata": {},
   "source": [
    "### Data Loading and Label Mapping"
   ]
  },
  {
   "cell_type": "code",
   "execution_count": 1,
   "metadata": {},
   "outputs": [
    {
     "name": "stderr",
     "output_type": "stream",
     "text": [
      "/opt/homebrew/lib/python3.11/site-packages/tqdm/auto.py:21: TqdmWarning: IProgress not found. Please update jupyter and ipywidgets. See https://ipywidgets.readthedocs.io/en/stable/user_install.html\n",
      "  from .autonotebook import tqdm as notebook_tqdm\n"
     ]
    }
   ],
   "source": [
    "#IMPORTS\n",
    "import numpy as np\n",
    "import pandas as pd\n",
    "import matplotlib.pyplot as plt\n",
    "from transformers import AutoTokenizer, AutoModelForSequenceClassification,pipeline\n",
    "from googlesearch import search\n",
    "from bs4 import BeautifulSoup\n",
    "import requests\n",
    "from sklearn.metrics import accuracy_score, precision_score, recall_score, f1_score\n",
    "from tqdm import tqdm\n",
    "import csv\n",
    "import os\n",
    "import time\n",
    "from random import uniform, choice\n",
    "from requests.adapters import HTTPAdapter\n",
    "from requests.packages.urllib3.util.retry import Retry\n",
    "from googlesearch import search\n"
   ]
  },
  {
   "cell_type": "code",
   "execution_count": 2,
   "metadata": {},
   "outputs": [
    {
     "data": {
      "text/html": [
       "<div>\n",
       "<style scoped>\n",
       "    .dataframe tbody tr th:only-of-type {\n",
       "        vertical-align: middle;\n",
       "    }\n",
       "\n",
       "    .dataframe tbody tr th {\n",
       "        vertical-align: top;\n",
       "    }\n",
       "\n",
       "    .dataframe thead th {\n",
       "        text-align: right;\n",
       "    }\n",
       "</style>\n",
       "<table border=\"1\" class=\"dataframe\">\n",
       "  <thead>\n",
       "    <tr style=\"text-align: right;\">\n",
       "      <th></th>\n",
       "      <th>Headline</th>\n",
       "      <th>Source</th>\n",
       "      <th>Question_phi</th>\n",
       "      <th>Question_Mistral</th>\n",
       "      <th>Label</th>\n",
       "    </tr>\n",
       "  </thead>\n",
       "  <tbody>\n",
       "    <tr>\n",
       "      <th>0</th>\n",
       "      <td>NASA’s Perseverance rover finds its first poss...</td>\n",
       "      <td>sciencenews.org</td>\n",
       "      <td>\"Has NASA's Perseverance rover discovered evid...</td>\n",
       "      <td>\"Has NASA officially announced the discovery o...</td>\n",
       "      <td>True</td>\n",
       "    </tr>\n",
       "    <tr>\n",
       "      <th>1</th>\n",
       "      <td>Sepsis tests take days  putting patients at ri...</td>\n",
       "      <td>sciencenews.org</td>\n",
       "      <td>\"What is the current average wait time for sep...</td>\n",
       "      <td>\"Is there a recent study or research that show...</td>\n",
       "      <td>True</td>\n",
       "    </tr>\n",
       "    <tr>\n",
       "      <th>2</th>\n",
       "      <td>Nasa's DART asteroid unlocks complex history o...</td>\n",
       "      <td>https://timesofindia.indiatimes.com/</td>\n",
       "      <td>\"What is the history of NASA's DART mission an...</td>\n",
       "      <td>\"Has NASA's DART mission provided evidence of ...</td>\n",
       "      <td>True</td>\n",
       "    </tr>\n",
       "    <tr>\n",
       "      <th>3</th>\n",
       "      <td>Say goodbye to back pain  patients go for adva...</td>\n",
       "      <td>https://timesofindia.indiatimes.com/</td>\n",
       "      <td>\"What are the benefits of advanced endoscopy s...</td>\n",
       "      <td>\"Has 'advanced endoscopy spine surgery for sci...</td>\n",
       "      <td>True</td>\n",
       "    </tr>\n",
       "    <tr>\n",
       "      <th>4</th>\n",
       "      <td>Neurodivergent children more likely to develop...</td>\n",
       "      <td>https://timesofindia.indiatimes.com/</td>\n",
       "      <td>\"What does the study find about the likelihood...</td>\n",
       "      <td>\"Is there a peer-reviewed study titled 'Neurod...</td>\n",
       "      <td>True</td>\n",
       "    </tr>\n",
       "    <tr>\n",
       "      <th>...</th>\n",
       "      <td>...</td>\n",
       "      <td>...</td>\n",
       "      <td>...</td>\n",
       "      <td>...</td>\n",
       "      <td>...</td>\n",
       "    </tr>\n",
       "    <tr>\n",
       "      <th>683</th>\n",
       "      <td>\"Google's parent company faces UK investigatio...</td>\n",
       "      <td>Synthetically Generated</td>\n",
       "      <td>\"Has Google's parent company been investigated...</td>\n",
       "      <td>\"Has Alphabet Inc., Google's parent company, b...</td>\n",
       "      <td>False</td>\n",
       "    </tr>\n",
       "    <tr>\n",
       "      <th>684</th>\n",
       "      <td>\"Intel announces hiring spree to fund recovery...</td>\n",
       "      <td>Synthetically Generated</td>\n",
       "      <td>\"What is the current hiring status of Intel as...</td>\n",
       "      <td>\"Has Intel announced a hiring spree to fund re...</td>\n",
       "      <td>False</td>\n",
       "    </tr>\n",
       "    <tr>\n",
       "      <th>685</th>\n",
       "      <td>\"Ola Electric IPO grey market premium skyrocke...</td>\n",
       "      <td>Synthetically Generated</td>\n",
       "      <td>\"What is the current grey market premium for O...</td>\n",
       "      <td>\"Has the Ola Electric IPO grey market premium ...</td>\n",
       "      <td>False</td>\n",
       "    </tr>\n",
       "    <tr>\n",
       "      <th>686</th>\n",
       "      <td>\"Japan's Nikkei 225 Index Soars 12.4%, Its Big...</td>\n",
       "      <td>Synthetically Generated</td>\n",
       "      <td>\"What was the percentage increase in Japan's N...</td>\n",
       "      <td>1. \"Is there a news article from a reliable so...</td>\n",
       "      <td>False</td>\n",
       "    </tr>\n",
       "    <tr>\n",
       "      <th>687</th>\n",
       "      <td>\"Revolut fails to obtain UK banking license af...</td>\n",
       "      <td>Synthetically Generated</td>\n",
       "      <td>\"What is the current status of Revolut's appli...</td>\n",
       "      <td>\"Is there a recent official announcement from ...</td>\n",
       "      <td>False</td>\n",
       "    </tr>\n",
       "  </tbody>\n",
       "</table>\n",
       "<p>688 rows × 5 columns</p>\n",
       "</div>"
      ],
      "text/plain": [
       "                                              Headline  \\\n",
       "0    NASA’s Perseverance rover finds its first poss...   \n",
       "1    Sepsis tests take days  putting patients at ri...   \n",
       "2    Nasa's DART asteroid unlocks complex history o...   \n",
       "3    Say goodbye to back pain  patients go for adva...   \n",
       "4    Neurodivergent children more likely to develop...   \n",
       "..                                                 ...   \n",
       "683  \"Google's parent company faces UK investigatio...   \n",
       "684  \"Intel announces hiring spree to fund recovery...   \n",
       "685  \"Ola Electric IPO grey market premium skyrocke...   \n",
       "686  \"Japan's Nikkei 225 Index Soars 12.4%, Its Big...   \n",
       "687  \"Revolut fails to obtain UK banking license af...   \n",
       "\n",
       "                                   Source  \\\n",
       "0                         sciencenews.org   \n",
       "1                         sciencenews.org   \n",
       "2    https://timesofindia.indiatimes.com/   \n",
       "3    https://timesofindia.indiatimes.com/   \n",
       "4    https://timesofindia.indiatimes.com/   \n",
       "..                                    ...   \n",
       "683               Synthetically Generated   \n",
       "684               Synthetically Generated   \n",
       "685               Synthetically Generated   \n",
       "686               Synthetically Generated   \n",
       "687               Synthetically Generated   \n",
       "\n",
       "                                          Question_phi  \\\n",
       "0    \"Has NASA's Perseverance rover discovered evid...   \n",
       "1    \"What is the current average wait time for sep...   \n",
       "2    \"What is the history of NASA's DART mission an...   \n",
       "3    \"What are the benefits of advanced endoscopy s...   \n",
       "4    \"What does the study find about the likelihood...   \n",
       "..                                                 ...   \n",
       "683  \"Has Google's parent company been investigated...   \n",
       "684  \"What is the current hiring status of Intel as...   \n",
       "685  \"What is the current grey market premium for O...   \n",
       "686  \"What was the percentage increase in Japan's N...   \n",
       "687  \"What is the current status of Revolut's appli...   \n",
       "\n",
       "                                      Question_Mistral  Label  \n",
       "0    \"Has NASA officially announced the discovery o...   True  \n",
       "1    \"Is there a recent study or research that show...   True  \n",
       "2    \"Has NASA's DART mission provided evidence of ...   True  \n",
       "3    \"Has 'advanced endoscopy spine surgery for sci...   True  \n",
       "4    \"Is there a peer-reviewed study titled 'Neurod...   True  \n",
       "..                                                 ...    ...  \n",
       "683  \"Has Alphabet Inc., Google's parent company, b...  False  \n",
       "684  \"Has Intel announced a hiring spree to fund re...  False  \n",
       "685  \"Has the Ola Electric IPO grey market premium ...  False  \n",
       "686  1. \"Is there a news article from a reliable so...  False  \n",
       "687  \"Is there a recent official announcement from ...  False  \n",
       "\n",
       "[688 rows x 5 columns]"
      ]
     },
     "execution_count": 2,
     "metadata": {},
     "output_type": "execute_result"
    }
   ],
   "source": [
    "df = pd.read_csv('Test_dataset(FINAL).csv')\n",
    "df"
   ]
  },
  {
   "cell_type": "code",
   "execution_count": 3,
   "metadata": {},
   "outputs": [
    {
     "data": {
      "text/plain": [
       "Label\n",
       "True     344\n",
       "False    344\n",
       "Name: count, dtype: int64"
      ]
     },
     "execution_count": 3,
     "metadata": {},
     "output_type": "execute_result"
    }
   ],
   "source": [
    "df['Label'].value_counts()"
   ]
  },
  {
   "cell_type": "code",
   "execution_count": 4,
   "metadata": {},
   "outputs": [
    {
     "data": {
      "text/plain": [
       "<Axes: ylabel='Label'>"
      ]
     },
     "execution_count": 4,
     "metadata": {},
     "output_type": "execute_result"
    },
    {
     "data": {
      "image/png": "[encoded data removed]",
      "text/plain": [
       "<Figure size 640x480 with 1 Axes>"
      ]
     },
     "metadata": {},
     "output_type": "display_data"
    }
   ],
   "source": [
    "df['Label'].value_counts().plot(kind='barh')"
   ]
  },
  {
   "cell_type": "markdown",
   "metadata": {},
   "source": [
    "### Articles Pipeline"
   ]
  },
  {
   "cell_type": "code",
   "execution_count": 5,
   "metadata": {},
   "outputs": [],
   "source": [
    "def get_top_links(query, num_links=1):\n",
    "    linksgot = []\n",
    "    try:\n",
    "        # Perform Google search and get the top links\n",
    "        search_results = search(query, num_results=num_links)\n",
    "\n",
    "        # Print the top links\n",
    "        for i, link in enumerate(search_results, start=1):\n",
    "            linksgot.append(link)\n",
    "    except Exception as e:\n",
    "        print(f\"An error occurred: {e}\")\n",
    "    return linksgot\n",
    "\n",
    "\n",
    "def get_title_and_content(search_query_results):\n",
    "    article_titles = []\n",
    "    article_content = []\n",
    "    if search_query_results:\n",
    "        for results in search_query_results:\n",
    "            try:\n",
    "                # Send a request to the URL and get the HTML content\n",
    "                response = requests.get(results)\n",
    "                soup = BeautifulSoup(response.content, 'lxml')\n",
    "\n",
    "                currentp = \"\"\n",
    "                # Scrape <p> tags\n",
    "                p_tags = soup.find_all('p')\n",
    "                for p in p_tags:\n",
    "                    currentp += p.text\n",
    "                article_content.append(currentp)\n",
    "\n",
    "                currenth1 = \"\"\n",
    "                # Scrape <h1> tags\n",
    "                h1_tags = soup.find_all('h1')\n",
    "                for h1 in h1_tags:\n",
    "                    currenth1 += h1.text\n",
    "\n",
    "                article_titles.append(currenth1)\n",
    "\n",
    "            except Exception as e:\n",
    "                print(f\"An error occurred: {e}\")\n",
    "    return article_titles, article_content\n",
    "\n",
    "\n",
    "# Get the titles and contents\n",
    "def make_data(search_query_results):\n",
    "    titles, contents = get_title_and_content(\n",
    "        get_top_links(search_query_results))\n",
    "\n",
    "    # Create a pandas DataFrame\n",
    "    data = {'Title': titles, 'Content': contents}\n",
    "    df = pd.DataFrame(data)\n",
    "    return df"
   ]
  },
  {
   "cell_type": "code",
   "execution_count": 6,
   "metadata": {},
   "outputs": [],
   "source": [
    "#To scrape headlines for the FactCC endpoint\n",
    "def dataframegen(text_input):\n",
    "    scraped_df = make_data(text_input)\n",
    "    scraped_df.dropna(inplace=True)\n",
    "    return scraped_df"
   ]
  },
  {
   "cell_type": "code",
   "execution_count": 7,
   "metadata": {},
   "outputs": [
    {
     "name": "stderr",
     "output_type": "stream",
     "text": [
      "/opt/homebrew/lib/python3.11/site-packages/torch/_utils.py:831: UserWarning: TypedStorage is deprecated. It will be removed in the future and UntypedStorage will be the only storage class. This should only matter to you if you are using storages directly.  To access UntypedStorage directly, use tensor.untyped_storage() instead of tensor.storage()\n",
      "  return self.fget.__get__(instance, owner)()\n"
     ]
    }
   ],
   "source": [
    "#Load FactCC Model pipeline\n",
    "pipe = pipeline(model=\"manueldeprada/FactCC\", task=\"text-classification\", max_length=512)"
   ]
  },
  {
   "cell_type": "code",
   "execution_count": 8,
   "metadata": {},
   "outputs": [],
   "source": [
    "def factCC(input_headline : str):\n",
    "    scraped_df =  dataframegen(input_headline)\n",
    "\n",
    "    # Convert the 'Content' column to strings\n",
    "    scraped_df['Content'] = scraped_df['Content'].astype(str)\n",
    "\n",
    "    # Sort the DataFrame based on the length of the strings in the 'Content' column\n",
    "    scraped_df = scraped_df.sort_values(by='Content', key=lambda x: x.str.len(), ascending=False)\n",
    "\n",
    "    # print(f\"Title: {scraped_df['Content'][0][:100]}\")\n",
    "\n",
    "    if len(scraped_df) == 0 or not scraped_df['Content'][0] or '403 Forbidden' in scraped_df['Content'][0] or '403 Forbidden' in scraped_df['Title'][0] :\n",
    "        #Could not retrieve articles related to headline, Most likely be a false claim as no information is found OR Scraper got blocked/forbidden(RARE)\n",
    "        return False, \"could not scrape content\"\n",
    "\n",
    "    scraped_content = (\n",
    "    f\"{scraped_df['Title'][0]} \\n{scraped_df['Content'][0]}\")\n",
    "    \n",
    "    # Perform text classification [source,claim]\n",
    "    ans = pipe([[[scraped_content,input_headline]]], truncation=True, padding='max_length')\n",
    "    if scraped_content is None:\n",
    "        scraped_content = \"Could not scrape content\"\n",
    "    if ans[0]['label'] == 'CORRECT':\n",
    "        return True, scraped_content\n",
    "    else:\n",
    "        return False, scraped_content"
   ]
  },
  {
   "cell_type": "code",
   "execution_count": 9,
   "metadata": {},
   "outputs": [
    {
     "name": "stdout",
     "output_type": "stream",
     "text": [
      "True True\n",
      "Correct Decision\n"
     ]
    }
   ],
   "source": [
    "model_decision, scraped_content = factCC(df['Headline'][0])\n",
    "actual_decision = df['Label'][0]\n",
    "print(model_decision,actual_decision)\n",
    "if model_decision == actual_decision:\n",
    "    print('Correct Decision')\n",
    "else:\n",
    "    print('Incorrect Decision')"
   ]
  },
  {
   "cell_type": "code",
   "execution_count": 10,
   "metadata": {},
   "outputs": [
    {
     "data": {
      "text/plain": [
       "(617, 5)"
      ]
     },
     "execution_count": 10,
     "metadata": {},
     "output_type": "execute_result"
    }
   ],
   "source": [
    "df =df[71:]\n",
    "df.shape"
   ]
  },
  {
   "cell_type": "code",
   "execution_count": null,
   "metadata": {},
   "outputs": [],
   "source": [
    "predictions = []\n",
    "actuals = []\n",
    "results = []\n",
    "batch_size = 2\n",
    "batch_size = 2\n",
    "\n",
    "csv_filename = 'Pipeline_Article.csv'\n",
    "processed_headlines = set()\n",
    "\n",
    "# Check if CSV file already exists and load processed headlines\n",
    "if os.path.exists(csv_filename):\n",
    "    with open(csv_filename, 'r', newline='', encoding='utf-8') as csvfile:\n",
    "        csvreader = csv.reader(csvfile, delimiter='|')\n",
    "        next(csvreader)  # Skip header\n",
    "        for row in csvreader:\n",
    "            if len(row) < 2:  # Skip rows that may not have all columns\n",
    "                continue\n",
    "            headline = row[1]\n",
    "            processed_headlines.add(headline)\n",
    "\n",
    "try:\n",
    "    # Open the CSV file for writing with '|' as the delimiter\n",
    "    with open(csv_filename, 'a', newline='', encoding='utf-8') as csvfile:\n",
    "        csvwriter = csv.writer(csvfile, delimiter='|')\n",
    "        if not processed_headlines:\n",
    "            csvwriter.writerow(['Index', 'Headline', 'Scraped Content', 'Model Decision', 'Actual Decision'])\n",
    "        \n",
    "        # Iterate over each row in the dataframe with tqdm for progress\n",
    "        for index, row in tqdm(df.iterrows(), total=len(df)):\n",
    "            try:\n",
    "                headline = row['Headline']\n",
    "                if headline in processed_headlines:\n",
    "                    print(f\"Skipping already processed headline: {headline}\")\n",
    "                    continue\n",
    "                \n",
    "                model_decision, scraped_content = factCC(headline)\n",
    "                \n",
    "                # Convert scraped content to a single line\n",
    "                scraped_content_single_line = ' '.join(scraped_content.splitlines()).strip().replace('|', ' ')\n",
    "                \n",
    "                actual_decision = row['Label']\n",
    "                predictions.append(model_decision)\n",
    "                actuals.append(actual_decision)\n",
    "                \n",
    "                results.append([index, headline, scraped_content_single_line, model_decision, actual_decision])\n",
    "                time.sleep(5)  # Increase sleep time to avoid rate limiting\n",
    "                \n",
    "                # Write to CSV in batches of 10\n",
    "                if len(results) % batch_size == 0:\n",
    "                    csvwriter.writerows(results)\n",
    "                    csvfile.flush()\n",
    "                    os.fsync(csvfile.fileno())\n",
    "                    results = []\n",
    "            \n",
    "            except Exception as e:\n",
    "                print(f\"Error processing row {index}: {str(e)}\")\n",
    "        \n",
    "        # Write any remaining results\n",
    "        if results:\n",
    "            csvwriter.writerows(results)\n",
    "            csvfile.flush()\n",
    "            os.fsync(csvfile.fileno())\n",
    "\n",
    "    # Calculate the metrics\n",
    "    accuracy = accuracy_score(actuals, predictions)\n",
    "    precision = precision_score(actuals, predictions, pos_label=True)\n",
    "    recall = recall_score(actuals, predictions, pos_label=True)\n",
    "    f1 = f1_score(actuals, predictions, pos_label=True)\n",
    "\n",
    "    # Append the accuracy to the CSV file\n",
    "    with open(csv_filename, 'a', newline='', encoding='utf-8') as csvfile:\n",
    "        csvwriter = csv.writer(csvfile, delimiter='|')\n",
    "        csvwriter.writerow([])  # Add an empty row for separation\n",
    "        csvwriter.writerow(['Metric', 'Value'])\n",
    "        csvwriter.writerow(['Accuracy', accuracy])\n",
    "        csvwriter.writerow(['Precision', precision])\n",
    "        csvwriter.writerow(['Recall', recall])\n",
    "        csvwriter.writerow(['F1 Score', f1])\n",
    "\n",
    "    print(f'Results written to {csv_filename}')\n",
    "    print(f'Final file size: {os.path.getsize(csv_filename)} bytes')\n",
    "    print(f'Accuracy: {accuracy}')\n",
    "    print(f'Precision: {precision}')\n",
    "    print(f'Recall: {recall}')\n",
    "    print(f'F1 Score: {f1}')\n",
    "\n",
    "except Exception as e:\n",
    "    print(f\"An error occurred: {str(e)}\")\n",
    "\n",
    "finally:\n",
    "    if os.path.exists(csv_filename):\n",
    "        print(f\"CSV file exists. Size: {os.path.getsize(csv_filename)} bytes\")\n",
    "    else:\n",
    "        print(\"CSV file does not exist.\")"
   ]
  }
 ],
 "metadata": {
  "kernelspec": {
   "display_name": "Python 3",
   "language": "python",
   "name": "python3"
  },
  "language_info": {
   "codemirror_mode": {
    "name": "ipython",
    "version": 3
   },
   "file_extension": ".py",
   "mimetype": "text/x-python",
   "name": "python",
   "nbconvert_exporter": "python",
   "pygments_lexer": "ipython3",
   "version": "3.11.8"
  }
 },
 "nbformat": 4,
 "nbformat_minor": 2
}
