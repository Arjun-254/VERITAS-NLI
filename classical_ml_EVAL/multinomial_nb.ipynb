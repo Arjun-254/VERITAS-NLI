{
 "cells": [
  {
   "cell_type": "code",
   "execution_count": 8,
   "metadata": {},
   "outputs": [],
   "source": [
    "# Import necessary libraries\n",
    "import pandas as pd\n",
    "import numpy as np\n",
    "from sklearn.model_selection import train_test_split\n",
    "from sklearn.feature_extraction.text import TfidfVectorizer\n",
    "from sklearn.naive_bayes import MultinomialNB\n",
    "from sklearn.metrics import accuracy_score, precision_score, recall_score, f1_score, confusion_matrix\n",
    "import nltk\n",
    "from nltk.corpus import stopwords\n",
    "from nltk.tokenize import word_tokenize\n",
    "from nltk.stem import WordNetLemmatizer"
   ]
  },
  {
   "cell_type": "code",
   "execution_count": 9,
   "metadata": {},
   "outputs": [
    {
     "name": "stderr",
     "output_type": "stream",
     "text": [
      "[nltk_data] Downloading package punkt to /Users/ameet/nltk_data...\n",
      "[nltk_data]   Package punkt is already up-to-date!\n",
      "[nltk_data] Downloading package stopwords to /Users/ameet/nltk_data...\n",
      "[nltk_data]   Package stopwords is already up-to-date!\n",
      "[nltk_data] Downloading package wordnet to /Users/ameet/nltk_data...\n",
      "[nltk_data]   Package wordnet is already up-to-date!\n"
     ]
    },
    {
     "data": {
      "text/plain": [
       "True"
      ]
     },
     "execution_count": 9,
     "metadata": {},
     "output_type": "execute_result"
    }
   ],
   "source": [
    "# Download required NLTK datasets\n",
    "nltk.download('punkt')\n",
    "nltk.download('stopwords')\n",
    "nltk.download('wordnet')"
   ]
  },
  {
   "cell_type": "code",
   "execution_count": 10,
   "metadata": {},
   "outputs": [],
   "source": [
    "# Function to clean and preprocess text data\n",
    "def clean_words(new_tokens):\n",
    "    new_tokens = [t.lower() for t in new_tokens]\n",
    "    stop_words = set(stopwords.words('english'))\n",
    "    new_tokens = [t for t in new_tokens if t not in stop_words]\n",
    "    new_tokens = [t for t in new_tokens if t.isalpha()]\n",
    "    lemmatizer = WordNetLemmatizer()\n",
    "    new_tokens = [lemmatizer.lemmatize(t) for t in new_tokens]\n",
    "    return new_tokens"
   ]
  },
  {
   "cell_type": "code",
   "execution_count": 11,
   "metadata": {},
   "outputs": [],
   "source": [
    "df = pd.read_csv('../Liar.csv')  # Read the Liar Dataset CSV "
   ]
  },
  {
   "cell_type": "code",
   "execution_count": 12,
   "metadata": {},
   "outputs": [],
   "source": [
    "# Create a custom mapping for the labels for binary classification\n",
    "label_mapping = {\n",
    "    'true': True,\n",
    "    'mostly-true': True,\n",
    "    'half-true': True,\n",
    "    'barely-true': False,\n",
    "    'false': False,\n",
    "    'pants-fire': False\n",
    "}\n",
    "\n",
    "df['label'] = df['label'].map(label_mapping)\n"
   ]
  },
  {
   "cell_type": "code",
   "execution_count": 13,
   "metadata": {},
   "outputs": [
    {
     "data": {
      "text/plain": [
       "label\n",
       "True     7133\n",
       "False    5655\n",
       "Name: count, dtype: int64"
      ]
     },
     "execution_count": 13,
     "metadata": {},
     "output_type": "execute_result"
    }
   ],
   "source": [
    "df['label'].value_counts()"
   ]
  },
  {
   "cell_type": "code",
   "execution_count": 14,
   "metadata": {},
   "outputs": [
    {
     "name": "stdout",
     "output_type": "stream",
     "text": [
      "All values in df['label'] are boolean (True/False).\n"
     ]
    }
   ],
   "source": [
    "# Check if all values in df['label'] are boolean\n",
    "all_boolean = df['label'].apply(lambda x: isinstance(x, bool)).all()\n",
    "\n",
    "if all_boolean:\n",
    "    print(\"All values in df['label'] are boolean (True/False).\")\n",
    "else:\n",
    "    print(\"Not all values in df['label'] are boolean. There may be other data types present.\")\n"
   ]
  },
  {
   "cell_type": "code",
   "execution_count": 15,
   "metadata": {},
   "outputs": [],
   "source": [
    "df_test_set = pd.read_csv('../Test_dataset(FINAL).csv')"
   ]
  },
  {
   "cell_type": "code",
   "execution_count": 16,
   "metadata": {},
   "outputs": [
    {
     "name": "stdout",
     "output_type": "stream",
     "text": [
      "All values in df['label'] are boolean (True/False).\n"
     ]
    }
   ],
   "source": [
    "# Check if all values in df_test_set['Label'] are also boolean\n",
    "all_boolean = df_test_set['Label'].apply(lambda x: isinstance(x, bool)).all()\n",
    "\n",
    "if all_boolean:\n",
    "    print(\"All values in df['label'] are boolean (True/False).\")\n",
    "else:\n",
    "    print(\"Not all values in df['label'] are boolean. There may be other data types present.\")"
   ]
  },
  {
   "cell_type": "code",
   "execution_count": 17,
   "metadata": {},
   "outputs": [
    {
     "name": "stdout",
     "output_type": "stream",
     "text": [
      "MultinomialNB Model Accuracy on Test Set: 51.02%\n",
      "Precision: 0.51\n",
      "Recall: 0.64\n",
      "F1-Score: 0.57\n",
      "\n",
      "Confusion Matrix:\n",
      "[[131 213]\n",
      " [124 220]]\n"
     ]
    }
   ],
   "source": [
    "X = [' '.join(clean_words(word_tokenize(text))) for text in df['statement']]\n",
    "y = df['label']\n",
    "\n",
    "vectorizer = TfidfVectorizer(stop_words='english', max_df=0.7)\n",
    "X_vectorized = vectorizer.fit_transform(X)\n",
    "\n",
    "clf = MultinomialNB()\n",
    "clf.fit(X_vectorized, y)\n",
    "\n",
    "df_test_set['cleaned_headline'] = df_test_set['Headline'].apply(lambda x: ' '.join(clean_words(word_tokenize(x))))\n",
    "X_test_set_vectorized = vectorizer.transform(df_test_set['cleaned_headline'])\n",
    "\n",
    "y_test_set = df_test_set['Label']\n",
    "y_test_set_pred = clf.predict(X_test_set_vectorized)\n",
    "df_test_set['MultinomialNB Model Decision'] = y_test_set_pred # Store model decisions to the test DataFrame\n",
    "\n",
    "accuracy = accuracy_score(y_test_set, y_test_set_pred)\n",
    "print(f\"MultinomialNB Model Accuracy on Test Set: {accuracy * 100:.2f}%\")\n",
    "\n",
    "precision = precision_score(y_test_set, y_test_set_pred)\n",
    "recall = recall_score(y_test_set, y_test_set_pred)\n",
    "f1 = f1_score(y_test_set, y_test_set_pred)\n",
    "\n",
    "print(f\"Precision: {precision:.2f}\")\n",
    "print(f\"Recall: {recall:.2f}\")\n",
    "print(f\"F1-Score: {f1:.2f}\")\n",
    "\n",
    "conf_matrix = confusion_matrix(y_test_set, y_test_set_pred)\n",
    "\n",
    "print(\"\\nConfusion Matrix:\")\n",
    "print(conf_matrix)\n"
   ]
  },
  {
   "cell_type": "code",
   "execution_count": 18,
   "metadata": {},
   "outputs": [
    {
     "data": {
      "text/html": [
       "<div>\n",
       "<style scoped>\n",
       "    .dataframe tbody tr th:only-of-type {\n",
       "        vertical-align: middle;\n",
       "    }\n",
       "\n",
       "    .dataframe tbody tr th {\n",
       "        vertical-align: top;\n",
       "    }\n",
       "\n",
       "    .dataframe thead th {\n",
       "        text-align: right;\n",
       "    }\n",
       "</style>\n",
       "<table border=\"1\" class=\"dataframe\">\n",
       "  <thead>\n",
       "    <tr style=\"text-align: right;\">\n",
       "      <th></th>\n",
       "      <th>Headline</th>\n",
       "      <th>cleaned_headline</th>\n",
       "      <th>Source</th>\n",
       "      <th>Question_phi</th>\n",
       "      <th>Question_Mistral</th>\n",
       "      <th>Label</th>\n",
       "      <th>LinearSVC Model Decision</th>\n",
       "      <th>LogisticRegression Model Decision</th>\n",
       "    </tr>\n",
       "  </thead>\n",
       "  <tbody>\n",
       "    <tr>\n",
       "      <th>0</th>\n",
       "      <td>NASA’s Perseverance rover finds its first poss...</td>\n",
       "      <td>nasa perseverance rover find first possible hi...</td>\n",
       "      <td>sciencenews.org</td>\n",
       "      <td>\"Has NASA's Perseverance rover discovered evid...</td>\n",
       "      <td>\"Has NASA officially announced the discovery o...</td>\n",
       "      <td>True</td>\n",
       "      <td>True</td>\n",
       "      <td>True</td>\n",
       "    </tr>\n",
       "    <tr>\n",
       "      <th>1</th>\n",
       "      <td>Sepsis tests take days  putting patients at ri...</td>\n",
       "      <td>sepsis test take day putting patient risk new ...</td>\n",
       "      <td>sciencenews.org</td>\n",
       "      <td>\"What is the current average wait time for sep...</td>\n",
       "      <td>\"Is there a recent study or research that show...</td>\n",
       "      <td>True</td>\n",
       "      <td>True</td>\n",
       "      <td>True</td>\n",
       "    </tr>\n",
       "    <tr>\n",
       "      <th>2</th>\n",
       "      <td>Nasa's DART asteroid unlocks complex history o...</td>\n",
       "      <td>nasa dart asteroid unlocks complex history twi...</td>\n",
       "      <td>https://timesofindia.indiatimes.com/</td>\n",
       "      <td>\"What is the history of NASA's DART mission an...</td>\n",
       "      <td>\"Has NASA's DART mission provided evidence of ...</td>\n",
       "      <td>True</td>\n",
       "      <td>False</td>\n",
       "      <td>True</td>\n",
       "    </tr>\n",
       "    <tr>\n",
       "      <th>3</th>\n",
       "      <td>Say goodbye to back pain  patients go for adva...</td>\n",
       "      <td>say goodbye back pain patient go advanced endo...</td>\n",
       "      <td>https://timesofindia.indiatimes.com/</td>\n",
       "      <td>\"What are the benefits of advanced endoscopy s...</td>\n",
       "      <td>\"Has 'advanced endoscopy spine surgery for sci...</td>\n",
       "      <td>True</td>\n",
       "      <td>False</td>\n",
       "      <td>False</td>\n",
       "    </tr>\n",
       "    <tr>\n",
       "      <th>4</th>\n",
       "      <td>Neurodivergent children more likely to develop...</td>\n",
       "      <td>neurodivergent child likely develop chronic fa...</td>\n",
       "      <td>https://timesofindia.indiatimes.com/</td>\n",
       "      <td>\"What does the study find about the likelihood...</td>\n",
       "      <td>\"Is there a peer-reviewed study titled 'Neurod...</td>\n",
       "      <td>True</td>\n",
       "      <td>False</td>\n",
       "      <td>True</td>\n",
       "    </tr>\n",
       "  </tbody>\n",
       "</table>\n",
       "</div>"
      ],
      "text/plain": [
       "                                            Headline  \\\n",
       "0  NASA’s Perseverance rover finds its first poss...   \n",
       "1  Sepsis tests take days  putting patients at ri...   \n",
       "2  Nasa's DART asteroid unlocks complex history o...   \n",
       "3  Say goodbye to back pain  patients go for adva...   \n",
       "4  Neurodivergent children more likely to develop...   \n",
       "\n",
       "                                    cleaned_headline  \\\n",
       "0  nasa perseverance rover find first possible hi...   \n",
       "1  sepsis test take day putting patient risk new ...   \n",
       "2  nasa dart asteroid unlocks complex history twi...   \n",
       "3  say goodbye back pain patient go advanced endo...   \n",
       "4  neurodivergent child likely develop chronic fa...   \n",
       "\n",
       "                                 Source  \\\n",
       "0                       sciencenews.org   \n",
       "1                       sciencenews.org   \n",
       "2  https://timesofindia.indiatimes.com/   \n",
       "3  https://timesofindia.indiatimes.com/   \n",
       "4  https://timesofindia.indiatimes.com/   \n",
       "\n",
       "                                        Question_phi  \\\n",
       "0  \"Has NASA's Perseverance rover discovered evid...   \n",
       "1  \"What is the current average wait time for sep...   \n",
       "2  \"What is the history of NASA's DART mission an...   \n",
       "3  \"What are the benefits of advanced endoscopy s...   \n",
       "4  \"What does the study find about the likelihood...   \n",
       "\n",
       "                                    Question_Mistral  Label  \\\n",
       "0  \"Has NASA officially announced the discovery o...   True   \n",
       "1  \"Is there a recent study or research that show...   True   \n",
       "2  \"Has NASA's DART mission provided evidence of ...   True   \n",
       "3  \"Has 'advanced endoscopy spine surgery for sci...   True   \n",
       "4  \"Is there a peer-reviewed study titled 'Neurod...   True   \n",
       "\n",
       "   LinearSVC Model Decision  LogisticRegression Model Decision  \n",
       "0                      True                               True  \n",
       "1                      True                               True  \n",
       "2                     False                               True  \n",
       "3                     False                              False  \n",
       "4                     False                               True  "
      ]
     },
     "execution_count": 18,
     "metadata": {},
     "output_type": "execute_result"
    }
   ],
   "source": [
    "df_eval_results = pd.read_csv('Classical_ml_EVAL.csv', index_col=None)\n",
    "df_eval_results.head()"
   ]
  },
  {
   "cell_type": "code",
   "execution_count": 19,
   "metadata": {},
   "outputs": [],
   "source": [
    "df_test_set = df_test_set[['Headline','MultinomialNB Model Decision']]\n",
    "df_eval_results = pd.merge(df_eval_results, df_test_set, on='Headline', how='left') # Left join to add to results"
   ]
  },
  {
   "cell_type": "code",
   "execution_count": 20,
   "metadata": {},
   "outputs": [
    {
     "data": {
      "text/html": [
       "<div>\n",
       "<style scoped>\n",
       "    .dataframe tbody tr th:only-of-type {\n",
       "        vertical-align: middle;\n",
       "    }\n",
       "\n",
       "    .dataframe tbody tr th {\n",
       "        vertical-align: top;\n",
       "    }\n",
       "\n",
       "    .dataframe thead th {\n",
       "        text-align: right;\n",
       "    }\n",
       "</style>\n",
       "<table border=\"1\" class=\"dataframe\">\n",
       "  <thead>\n",
       "    <tr style=\"text-align: right;\">\n",
       "      <th></th>\n",
       "      <th>Headline</th>\n",
       "      <th>cleaned_headline</th>\n",
       "      <th>Source</th>\n",
       "      <th>Question_phi</th>\n",
       "      <th>Question_Mistral</th>\n",
       "      <th>Label</th>\n",
       "      <th>LinearSVC Model Decision</th>\n",
       "      <th>LogisticRegression Model Decision</th>\n",
       "      <th>MultinomialNB Model Decision</th>\n",
       "    </tr>\n",
       "  </thead>\n",
       "  <tbody>\n",
       "    <tr>\n",
       "      <th>0</th>\n",
       "      <td>NASA’s Perseverance rover finds its first poss...</td>\n",
       "      <td>nasa perseverance rover find first possible hi...</td>\n",
       "      <td>sciencenews.org</td>\n",
       "      <td>\"Has NASA's Perseverance rover discovered evid...</td>\n",
       "      <td>\"Has NASA officially announced the discovery o...</td>\n",
       "      <td>True</td>\n",
       "      <td>True</td>\n",
       "      <td>True</td>\n",
       "      <td>False</td>\n",
       "    </tr>\n",
       "    <tr>\n",
       "      <th>1</th>\n",
       "      <td>Sepsis tests take days  putting patients at ri...</td>\n",
       "      <td>sepsis test take day putting patient risk new ...</td>\n",
       "      <td>sciencenews.org</td>\n",
       "      <td>\"What is the current average wait time for sep...</td>\n",
       "      <td>\"Is there a recent study or research that show...</td>\n",
       "      <td>True</td>\n",
       "      <td>True</td>\n",
       "      <td>True</td>\n",
       "      <td>True</td>\n",
       "    </tr>\n",
       "  </tbody>\n",
       "</table>\n",
       "</div>"
      ],
      "text/plain": [
       "                                            Headline  \\\n",
       "0  NASA’s Perseverance rover finds its first poss...   \n",
       "1  Sepsis tests take days  putting patients at ri...   \n",
       "\n",
       "                                    cleaned_headline           Source  \\\n",
       "0  nasa perseverance rover find first possible hi...  sciencenews.org   \n",
       "1  sepsis test take day putting patient risk new ...  sciencenews.org   \n",
       "\n",
       "                                        Question_phi  \\\n",
       "0  \"Has NASA's Perseverance rover discovered evid...   \n",
       "1  \"What is the current average wait time for sep...   \n",
       "\n",
       "                                    Question_Mistral  Label  \\\n",
       "0  \"Has NASA officially announced the discovery o...   True   \n",
       "1  \"Is there a recent study or research that show...   True   \n",
       "\n",
       "   LinearSVC Model Decision  LogisticRegression Model Decision  \\\n",
       "0                      True                               True   \n",
       "1                      True                               True   \n",
       "\n",
       "   MultinomialNB Model Decision  \n",
       "0                         False  \n",
       "1                          True  "
      ]
     },
     "execution_count": 20,
     "metadata": {},
     "output_type": "execute_result"
    }
   ],
   "source": [
    "df_eval_results.head(2)"
   ]
  },
  {
   "cell_type": "code",
   "execution_count": 21,
   "metadata": {},
   "outputs": [],
   "source": [
    "df_eval_results.to_csv(\"Classical_ml_EVAL.csv\", index=False)"
   ]
  },
  {
   "cell_type": "code",
   "execution_count": 22,
   "metadata": {},
   "outputs": [
    {
     "name": "stdout",
     "output_type": "stream",
     "text": [
      "Prediction for the headline: True\n"
     ]
    }
   ],
   "source": [
    "def predict_headline(headline, vectorizer, model):\n",
    "    # Clean and preprocess the headline\n",
    "    cleaned_headline = ' '.join(clean_words(word_tokenize(headline)))\n",
    "    headline_vectorized = vectorizer.transform([cleaned_headline])\n",
    "    prediction = model.predict(headline_vectorized)[0]\n",
    "    result = \"True\" if prediction else \"False\"\n",
    "    return result\n",
    "\n",
    "# Example usage\n",
    "headline = \"Paris 2024 Olympics: Leon Marchand fails to achieve any medals in the competition.\"\n",
    "result = predict_headline(headline, vectorizer, clf)\n",
    "print(f\"Prediction for the headline: {result}\")"
   ]
  }
 ],
 "metadata": {
  "kernelspec": {
   "display_name": "Python 3",
   "language": "python",
   "name": "python3"
  },
  "language_info": {
   "codemirror_mode": {
    "name": "ipython",
    "version": 3
   },
   "file_extension": ".py",
   "mimetype": "text/x-python",
   "name": "python",
   "nbconvert_exporter": "python",
   "pygments_lexer": "ipython3",
   "version": "3.11.8"
  }
 },
 "nbformat": 4,
 "nbformat_minor": 2
}
