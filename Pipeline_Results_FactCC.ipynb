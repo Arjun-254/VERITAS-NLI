{
 "cells": [
  {
   "cell_type": "code",
   "execution_count": 15,
   "metadata": {},
   "outputs": [],
   "source": [
    "import pandas as pd\n",
    "import matplotlib.pyplot as plt\n",
    "import seaborn as sns\n",
    "from sklearn.metrics import accuracy_score, precision_score, recall_score, f1_score, confusion_matrix"
   ]
  },
  {
   "cell_type": "code",
   "execution_count": 16,
   "metadata": {},
   "outputs": [],
   "source": [
    "def compute_results(df):\n",
    "    # Assuming df['Model Decision'] contains the predicted labels and df['Actual Decision'] contains the true labels\n",
    "    y_true = df['Actual Decision']\n",
    "    y_pred = df['Model Decision']\n",
    "\n",
    "    # Calculate accuracy, precision, recall, and F1 score\n",
    "    accuracy = accuracy_score(y_true, y_pred) * 100\n",
    "    precision = precision_score(y_true, y_pred, average='binary')  # Use 'binary' for binary classification\n",
    "    recall = recall_score(y_true, y_pred, average='binary')\n",
    "    f1 = f1_score(y_true, y_pred, average='binary')\n",
    "\n",
    "    # Print the scores\n",
    "    print(f'Accuracy: {accuracy:.5f}%')\n",
    "    print(f'Precision: {precision:.5f}')\n",
    "    print(f'Recall: {recall:.5f}')\n",
    "    print(f'F1 Score: {f1:.5f}')\n",
    "\n",
    "    # Generate the confusion matrix\n",
    "    conf_matrix = confusion_matrix(y_true, y_pred)\n",
    "    print('Confusion Matrix:')\n",
    "    print(conf_matrix)\n",
    "    plt.show()"
   ]
  },
  {
   "cell_type": "code",
   "execution_count": 17,
   "metadata": {},
   "outputs": [
    {
     "name": "stdout",
     "output_type": "stream",
     "text": [
      "Accuracy: 78.02038%\n",
      "Precision: 0.77650\n",
      "Recall: 0.78779\n",
      "F1 Score: 0.78211\n",
      "Confusion Matrix:\n",
      "[[265  78]\n",
      " [ 73 271]]\n"
     ]
    }
   ],
   "source": [
    "#Article Pipeline FactCC Results\n",
    "df = pd.read_csv('FactCC_Results/Pipeline_Article.csv',delimiter='|')\n",
    "df.drop(columns=['Index'], inplace=True)\n",
    "compute_results(df)"
   ]
  },
  {
   "cell_type": "code",
   "execution_count": 18,
   "metadata": {},
   "outputs": [
    {
     "name": "stdout",
     "output_type": "stream",
     "text": [
      "Accuracy: 54.79651%\n",
      "Precision: 0.54728\n",
      "Recall: 0.55523\n",
      "F1 Score: 0.55123\n",
      "Confusion Matrix:\n",
      "[[186 158]\n",
      " [153 191]]\n"
     ]
    }
   ],
   "source": [
    "#QNA Pipeline FactCC Results\n",
    "df = pd.read_csv('FactCC_Results/Pipeline_QNA.csv',delimiter='|')\n",
    "df.drop(columns=['Index'], inplace=True)\n",
    "compute_results(df)"
   ]
  },
  {
   "cell_type": "code",
   "execution_count": 19,
   "metadata": {},
   "outputs": [
    {
     "name": "stdout",
     "output_type": "stream",
     "text": [
      "Accuracy: 53.19767%\n",
      "Precision: 0.53667\n",
      "Recall: 0.46802\n",
      "F1 Score: 0.50000\n",
      "Confusion Matrix:\n",
      "[[205 139]\n",
      " [183 161]]\n"
     ]
    }
   ],
   "source": [
    "#SLM-Mistral Pipeline FactCC Results\n",
    "df = pd.read_csv('FactCC_Results/Pipeline_SLM(Mistral).csv',delimiter='|')\n",
    "df.drop(columns=['Index'], inplace=True)\n",
    "compute_results(df)"
   ]
  },
  {
   "cell_type": "code",
   "execution_count": 20,
   "metadata": {},
   "outputs": [
    {
     "name": "stdout",
     "output_type": "stream",
     "text": [
      "Accuracy: 53.27511%\n",
      "Precision: 0.54035\n",
      "Recall: 0.44767\n",
      "F1 Score: 0.48967\n",
      "Confusion Matrix:\n",
      "[[212 131]\n",
      " [190 154]]\n"
     ]
    }
   ],
   "source": [
    "#SLM-Phi Pipeline FactCC Results\n",
    "df = pd.read_csv('FactCC_Results/Pipeline_SLM(Phi).csv',delimiter='|')\n",
    "df.drop(columns=['Index'], inplace=True)\n",
    "compute_results(df)"
   ]
  }
 ],
 "metadata": {
  "kernelspec": {
   "display_name": "Python 3",
   "language": "python",
   "name": "python3"
  },
  "language_info": {
   "codemirror_mode": {
    "name": "ipython",
    "version": 3
   },
   "file_extension": ".py",
   "mimetype": "text/x-python",
   "name": "python",
   "nbconvert_exporter": "python",
   "pygments_lexer": "ipython3",
   "version": "3.11.8"
  }
 },
 "nbformat": 4,
 "nbformat_minor": 2
}
